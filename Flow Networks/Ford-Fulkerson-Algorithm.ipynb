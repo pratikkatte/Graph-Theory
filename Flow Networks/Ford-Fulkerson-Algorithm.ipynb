{
 "cells": [
  {
   "cell_type": "markdown",
   "id": "bae7c9bd-0cc3-4e36-8301-22172b795fba",
   "metadata": {},
   "source": [
    "# Algorithm Pseudo-code"
   ]
  },
  {
   "cell_type": "markdown",
   "id": "38a10fe7-ee4f-41f9-aecd-f3ca3792d764",
   "metadata": {},
   "source": [
    "#### Ford-Fulkerson Algorithm ((Graph G, source s, sink t):"
   ]
  },
  {
   "cell_type": "raw",
   "id": "6cd899e8-5705-427d-ae34-fb85f5d84e33",
   "metadata": {
    "tags": []
   },
   "source": [
    "initialize flow to 0\n",
    "path = findAugmentingPath(G, s, t)\n",
    "while path exists:\n",
    "    augment flow along path                 #This is purposefully ambiguous for now\n",
    "    G_f = createResidualGraph()\n",
    "    path = findAugmentingPath(G_f, s, t)\n",
    "return flow"
   ]
  },
  {
   "cell_type": "markdown",
   "id": "f144a690-604f-41e3-963b-15a72e8dea1a",
   "metadata": {
    "tags": []
   },
   "source": [
    "## Implementation"
   ]
  },
  {
   "cell_type": "code",
   "execution_count": 15,
   "id": "4cfc505f-8042-45a8-bfa4-ee560f4dc3e6",
   "metadata": {
    "tags": []
   },
   "outputs": [],
   "source": [
    "\n",
    "# Ford-Fulkerson algorith in Python\n",
    "\n",
    "from collections import defaultdict\n",
    "\n",
    "class Graph:\n",
    "\n",
    "    def __init__(self, graph):\n",
    "        self.graph = graph\n",
    "        self. ROW = len(graph)\n",
    "\n",
    "\n",
    "    # Using BFS as a searching algorithm \n",
    "    def searching_algo_BFS(self, s, t, parent):\n",
    "\n",
    "        visited = [False] * (self.ROW)\n",
    "        queue = []\n",
    "\n",
    "        queue.append(s)\n",
    "        visited[s] = True\n",
    "\n",
    "        while queue:\n",
    "\n",
    "            u = queue.pop(0)\n",
    "\n",
    "            for ind, val in enumerate(self.graph[u]):\n",
    "                if visited[ind] == False and val > 0:\n",
    "                    queue.append(ind)\n",
    "                    visited[ind] = True\n",
    "                    parent[ind] = u\n",
    "\n",
    "        return True if visited[t] else False\n",
    "\n",
    "    # Applying fordfulkerson algorithm\n",
    "    def ford_fulkerson(self, source, sink):\n",
    "        parent = [-1] * (self.ROW)\n",
    "        max_flow = 0\n",
    "\n",
    "        while self.searching_algo_BFS(source, sink, parent):\n",
    "\n",
    "            path_flow = float(\"Inf\")\n",
    "            s = sink\n",
    "            while(s != source):\n",
    "                path_flow = min(path_flow, self.graph[parent[s]][s])\n",
    "                s = parent[s]\n",
    "\n",
    "            # Adding the path flows\n",
    "            max_flow += path_flow\n",
    "\n",
    "            # Updating the residual values of edges\n",
    "            v = sink\n",
    "            while(v != source):\n",
    "                u = parent[v]\n",
    "                self.graph[u][v] -= path_flow\n",
    "                self.graph[v][u] += path_flow\n",
    "                v = parent[v]\n",
    "\n",
    "        return max_flow\n"
   ]
  },
  {
   "cell_type": "markdown",
   "id": "98cbf669-118f-4191-82e0-168b98a0a544",
   "metadata": {
    "tags": []
   },
   "source": [
    "## Using the Implementation"
   ]
  },
  {
   "cell_type": "code",
   "execution_count": 17,
   "id": "ba1ab1f8-f241-49c1-8daf-aeead92cd8b7",
   "metadata": {
    "tags": []
   },
   "outputs": [
    {
     "name": "stdout",
     "output_type": "stream",
     "text": [
      "Max Flow: 6 \n"
     ]
    }
   ],
   "source": [
    "graph = [[0, 8, 0, 0, 3, 0],\n",
    "         [0, 0, 9, 0, 0, 0],\n",
    "         [0, 0, 0, 0, 7, 2],\n",
    "         [0, 0, 0, 0, 0, 5],\n",
    "         [0, 0, 7, 4, 0, 0],\n",
    "         [0, 0, 0, 0, 0, 0]]\n",
    "\n",
    "g = Graph(graph)\n",
    "\n",
    "source = 0\n",
    "sink = 5\n",
    "\n",
    "print(\"Max Flow: %d \" % g.ford_fulkerson(source, sink))"
   ]
  },
  {
   "cell_type": "markdown",
   "id": "4245e364-d77c-4a72-bf0a-a116df436d07",
   "metadata": {},
   "source": [
    "## Complexity"
   ]
  },
  {
   "cell_type": "markdown",
   "id": "22135945-fa96-4e39-81af-354d50b6b2d3",
   "metadata": {
    "tags": []
   },
   "source": [
    "The analysis of Ford-Fulkerson depends heavily on how the augmenting paths are found. The typical method is to use breadth-first search to find the path. If this method is used, Ford-Fulkerson runs in polynomial time."
   ]
  },
  {
   "cell_type": "markdown",
   "id": "61639e37-22b9-4b64-aa7b-1fccef1c8605",
   "metadata": {},
   "source": [
    "If all flows are integers, then the while loop of Ford-Fulkerson is run at most \n",
    "∣\n",
    "�\n",
    "∗\n",
    "∣\n",
    "∣f \n",
    "∗\n",
    " ∣ times, where \n",
    "�\n",
    "∗\n",
    "f \n",
    "∗\n",
    "  is the maximum flow. This is because the flow is increased, at worst, by 1 in each iteration."
   ]
  },
  {
   "cell_type": "markdown",
   "id": "095c210f-c468-46a1-bcb8-84a4eb5fd6e6",
   "metadata": {
    "tags": []
   },
   "source": [
    "Finding the augmenting path inside the while loop takes \n",
    "�\n",
    "(\n",
    "�\n",
    "+\n",
    "�\n",
    "′\n",
    ")\n",
    ",\n",
    "O(V+E \n",
    "′\n",
    " \n",
    " ), where \n",
    "�\n",
    "′\n",
    "E \n",
    "′\n",
    " \n",
    "  is the set of edges in the residual graph. This can be simplified to \n",
    "�\n",
    "(\n",
    "�\n",
    ")\n",
    "O(E). So, the runtime of Ford-Fulkerson is\n",
    "�\n",
    "(\n"
   ]
  },
  {
   "cell_type": "code",
   "execution_count": null,
   "id": "5ad8625a-44c3-43a2-9997-a23264b03dee",
   "metadata": {},
   "outputs": [],
   "source": []
  }
 ],
 "metadata": {
  "kernelspec": {
   "display_name": "GFN",
   "language": "python",
   "name": "gfn"
  },
  "language_info": {
   "codemirror_mode": {
    "name": "ipython",
    "version": 3
   },
   "file_extension": ".py",
   "mimetype": "text/x-python",
   "name": "python",
   "nbconvert_exporter": "python",
   "pygments_lexer": "ipython3",
   "version": "3.11.4"
  }
 },
 "nbformat": 4,
 "nbformat_minor": 5
}
