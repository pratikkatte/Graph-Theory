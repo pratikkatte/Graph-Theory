{
 "cells": [
  {
   "cell_type": "markdown",
   "id": "9f823c4d-f662-4415-90dc-a38ffb915e37",
   "metadata": {},
   "source": [
    "# Edmonds-Karp Algorithm\n"
   ]
  },
  {
   "cell_type": "markdown",
   "id": "165e310d-4a68-4b9a-88ed-affa304b517f",
   "metadata": {},
   "source": [
    "## Algorithm Pseudo Code"
   ]
  },
  {
   "cell_type": "raw",
   "id": "fe421ada-a744-445f-88b7-b50ce82560e3",
   "metadata": {
    "tags": []
   },
   "source": [
    "inputs\n",
    "    C[n x n] : Capacity Matrix\n",
    "    E[n x n] : Adjacency Matrix\n",
    "    s : source\n",
    "    t : sink\n",
    "output\n",
    "    f : maximum flow\n",
    "Edmonds-Karp:\n",
    "    f = 0                // Flow is initially 0\n",
    "    F = [n x n]       // residual capacity array\n",
    "    while true:\n",
    "        m, P = Breadth-First-Search(C, E, s, t, F)\n",
    "        if m = 0:\n",
    "            break\n",
    "        f = f + m\n",
    "        v = t\n",
    "        while v != s:\n",
    "            u = P[v]\n",
    "            F[u, v] = F[u, v] - m       //This is reducing the residual capacity of the augmenting path\n",
    "            F[v, u] = F[v, u] + m        //This is increasing the residual capacity of the reverse edges \n",
    "            v = u\n",
    "    return f"
   ]
  },
  {
   "cell_type": "code",
   "execution_count": null,
   "id": "31924f0e-d637-4a39-a8bb-b6604fd26881",
   "metadata": {},
   "outputs": [],
   "source": []
  }
 ],
 "metadata": {
  "kernelspec": {
   "display_name": "GFN",
   "language": "python",
   "name": "gfn"
  },
  "language_info": {
   "codemirror_mode": {
    "name": "ipython",
    "version": 3
   },
   "file_extension": ".py",
   "mimetype": "text/x-python",
   "name": "python",
   "nbconvert_exporter": "python",
   "pygments_lexer": "ipython3",
   "version": "3.11.4"
  }
 },
 "nbformat": 4,
 "nbformat_minor": 5
}
