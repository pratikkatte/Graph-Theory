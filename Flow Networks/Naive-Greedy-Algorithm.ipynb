{
 "cells": [
  {
   "cell_type": "markdown",
   "id": "de9d4ecc-f2c6-48d9-af87-68a5c06adfe2",
   "metadata": {},
   "source": [
    "# Naive Greedy Algorithm"
   ]
  },
  {
   "cell_type": "markdown",
   "id": "d5a67d72-4605-4100-987e-5dc4bfe0284c",
   "metadata": {},
   "source": [
    "## Algorithm pseudo-code"
   ]
  },
  {
   "cell_type": "raw",
   "id": "35cfc9b9-9000-473e-af4c-79b102fd1fbc",
   "metadata": {
    "tags": []
   },
   "source": [
    "E number of edge \n",
    "f(e) flow of edge \n",
    "C(e) capacity of edge \n",
    "\n",
    "1) Initialize : max_flow = 0  \n",
    "                f(e) = 0 for every edge 'e' in E \n",
    "            \n",
    "2) Repeat search for an s-t path P while it exists.   \n",
    "   a) Find if there is a path from s to t using BFS\n",
    "      or DFS. A path exists if f(e) < C(e) for \n",
    "      every edge e on the path.\n",
    "   b) If no path found, return max_flow.\n",
    "   c) Else find minimum edge value for path P\n",
    "        \n",
    "      // Our flow is limited by least remaining\n",
    "      // capacity edge on path P.\n",
    "      (i) flow = min(C(e)- f(e)) for path P ]\n",
    "             max_flow += flow\n",
    "      (ii) For all edge e of path increment flow \n",
    "             f(e) += flow\n",
    "\n",
    "3) Return max_flow"
   ]
  },
  {
   "cell_type": "code",
   "execution_count": null,
   "id": "cc622cd4-831e-44a2-b722-714f1b1c38b5",
   "metadata": {},
   "outputs": [],
   "source": []
  }
 ],
 "metadata": {
  "kernelspec": {
   "display_name": "GFN",
   "language": "python",
   "name": "gfn"
  },
  "language_info": {
   "codemirror_mode": {
    "name": "ipython",
    "version": 3
   },
   "file_extension": ".py",
   "mimetype": "text/x-python",
   "name": "python",
   "nbconvert_exporter": "python",
   "pygments_lexer": "ipython3",
   "version": "3.11.4"
  }
 },
 "nbformat": 4,
 "nbformat_minor": 5
}
